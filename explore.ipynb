{
 "cells": [
  {
   "cell_type": "code",
   "execution_count": 1,
   "outputs": [
    {
     "name": "stdout",
     "text": [
      "Requirement already satisfied: pandas in /usr/local/lib/python3.7/site-packages (0.25.2)\r\nRequirement already satisfied: python-dateutil>=2.6.1 in /usr/local/lib/python3.7/site-packages (from pandas) (2.8.0)\r\nRequirement already satisfied: numpy>=1.13.3 in /usr/local/lib/python3.7/site-packages (from pandas) (1.17.3)\r\nRequirement already satisfied: pytz>=2017.2 in /usr/local/lib/python3.7/site-packages (from pandas) (2019.3)\r\nRequirement already satisfied: six>=1.5 in /usr/local/lib/python3.7/site-packages (from python-dateutil>=2.6.1->pandas) (1.12.0)\r\n"
     ],
     "output_type": "stream"
    }
   ],
   "source": [
    "!pip install pandas"
   ],
   "metadata": {
    "collapsed": false,
    "pycharm": {
     "name": "#%%\n",
     "is_executing": false
    }
   }
  },
  {
   "cell_type": "code",
   "execution_count": 2,
   "outputs": [],
   "source": [
    "import pandas\n",
    "import csv"
   ],
   "metadata": {
    "collapsed": false,
    "pycharm": {
     "name": "#%%\n",
     "is_executing": false
    }
   }
  },
  {
   "cell_type": "markdown",
   "source": [
    "## Code Values\n",
    "\n",
    "There are lines in the original `Code_Values.csv` where double quotes are not escaped in cells. For example, in line 65490, `\"764.00\",\"\",\"\"Light-for-dates\" without mention of fetal malnutrition, unspecified [weight]\",\"\"Light-for-dates\" without mention of fetal malnutrition, unspecified [weight]\",\"\",\"\",\"\",\"245065012985530252673878283538565653299\",\"2\",\"\"`\n",
    "These lines create issues when the file is read as a csv file. The following is a program that convert the double quotes to single quotes. "
   ],
   "metadata": {
    "collapsed": false
   }
  },
  {
   "cell_type": "code",
   "execution_count": 3,
   "outputs": [],
   "source": [
    "def escape_internal_quotes(item):\n",
    "    return '\"' + item.replace('\"', \"'\") + '\"'\n",
    "\n",
    "with open('data/Code_Value.csv', 'r') as fin:\n",
    "    with open('data/Code_Value_fixed.csv', 'w') as fout:\n",
    "        line = fin.readline().rstrip()\n",
    "        fout.write(','.join(['\"' + item + '\"' for item in line.split(',')]) + '\\n')\n",
    "        line = fin.readline()\n",
    "        while line:\n",
    "            left = line.find('\"') + 1\n",
    "            right = line.rfind('\"')\n",
    "            escaped = [escape_internal_quotes(item) for item in line[left:right].split('\",\"')]\n",
    "            fout.write(','.join(escaped) + '\\n')\n",
    "            line = fin.readline()"
   ],
   "metadata": {
    "collapsed": false,
    "pycharm": {
     "name": "#%%\n",
     "is_executing": false
    }
   }
  },
  {
   "cell_type": "markdown",
   "source": [
    "### Explore Code Values"
   ],
   "metadata": {
    "collapsed": false
   }
  },
  {
   "cell_type": "code",
   "execution_count": 4,
   "outputs": [
    {
     "name": "stderr",
     "text": [
      "/usr/local/lib/python3.7/site-packages/IPython/core/interactiveshell.py:3058: DtypeWarning: Columns (1,4,9) have mixed types. Specify dtype option on import or set low_memory=False.\n  interactivity=interactivity, compiler=compiler, result=result)\n"
     ],
     "output_type": "stream"
    },
    {
     "data": {
      "text/plain": "(193321, 10)"
     },
     "metadata": {},
     "output_type": "execute_result",
     "execution_count": 4
    }
   ],
   "source": [
    "code_values = pandas.read_csv('data/Code_Value_fixed.csv')\n",
    "code_values.shape"
   ],
   "metadata": {
    "collapsed": false,
    "pycharm": {
     "name": "#%%\n",
     "is_executing": false
    }
   }
  },
  {
   "cell_type": "code",
   "execution_count": 5,
   "outputs": [
    {
     "data": {
      "text/plain": "CODE                         1\nNCIT_CONCEPT_CODE       192338\nSHORT_NAME               10483\nLONG_NAME                 2243\nDESCRIPTION             192346\nSTART_DATE              175333\nEND_DATE                193321\nCODE_VALUE_ID                0\nVOCABULARY_ID                0\nPARENT_CODE_VALUE_ID    150966\ndtype: int64"
     },
     "metadata": {},
     "output_type": "execute_result",
     "execution_count": 5
    }
   ],
   "source": [
    "code_values.isnull().sum(axis = 0)"
   ],
   "metadata": {
    "collapsed": false,
    "pycharm": {
     "name": "#%%\n",
     "is_executing": false
    }
   }
  },
  {
   "cell_type": "code",
   "execution_count": 6,
   "outputs": [
    {
     "data": {
      "text/plain": "   CODE NCIT_CONCEPT_CODE                        SHORT_NAME LONG_NAME  \\\n22  NaN               NaN  American Indian or Alaska Native       NaN   \n\n   DESCRIPTION             START_DATE  END_DATE CODE_VALUE_ID  VOCABULARY_ID  \\\n22         NaN  2000-01-01 00:00:00.0       NaN           461             14   \n\n   PARENT_CODE_VALUE_ID  \n22                  NaN  ",
      "text/html": "<div>\n<style scoped>\n    .dataframe tbody tr th:only-of-type {\n        vertical-align: middle;\n    }\n\n    .dataframe tbody tr th {\n        vertical-align: top;\n    }\n\n    .dataframe thead th {\n        text-align: right;\n    }\n</style>\n<table border=\"1\" class=\"dataframe\">\n  <thead>\n    <tr style=\"text-align: right;\">\n      <th></th>\n      <th>CODE</th>\n      <th>NCIT_CONCEPT_CODE</th>\n      <th>SHORT_NAME</th>\n      <th>LONG_NAME</th>\n      <th>DESCRIPTION</th>\n      <th>START_DATE</th>\n      <th>END_DATE</th>\n      <th>CODE_VALUE_ID</th>\n      <th>VOCABULARY_ID</th>\n      <th>PARENT_CODE_VALUE_ID</th>\n    </tr>\n  </thead>\n  <tbody>\n    <tr>\n      <th>22</th>\n      <td>NaN</td>\n      <td>NaN</td>\n      <td>American Indian or Alaska Native</td>\n      <td>NaN</td>\n      <td>NaN</td>\n      <td>2000-01-01 00:00:00.0</td>\n      <td>NaN</td>\n      <td>461</td>\n      <td>14</td>\n      <td>NaN</td>\n    </tr>\n  </tbody>\n</table>\n</div>"
     },
     "metadata": {},
     "output_type": "execute_result",
     "execution_count": 6
    }
   ],
   "source": [
    "code_values[code_values['CODE'].isnull()]"
   ],
   "metadata": {
    "collapsed": false,
    "pycharm": {
     "name": "#%%\n",
     "is_executing": false
    }
   }
  },
  {
   "cell_type": "code",
   "execution_count": 7,
   "outputs": [
    {
     "data": {
      "text/plain": "      CODE NCIT_CONCEPT_CODE                        SHORT_NAME  \\\n1   1002-5               NaN  American Indian or Alaska Native   \n10    8657               NaN  American Indian or Alaska Native   \n22     NaN               NaN  American Indian or Alaska Native   \n29       1               NaN  American Indian or Alaska Native   \n35      01               NaN  American Indian or Alaska Native   \n\n                            LONG_NAME DESCRIPTION             START_DATE  \\\n1                                 NaN         NaN  2000-01-01 00:00:00.0   \n10  <Race:Race:Race:CONCEPT_CODE>1</>         NaN  2000-01-01 00:00:00.0   \n22                                NaN         NaN  2000-01-01 00:00:00.0   \n29                                NaN         NaN  2000-01-01 00:00:00.0   \n35                                NaN         NaN  2000-01-01 00:00:00.0   \n\n    END_DATE CODE_VALUE_ID  VOCABULARY_ID PARENT_CODE_VALUE_ID  \n1        NaN           414             10                  NaN  \n10       NaN           424             11                  NaN  \n22       NaN           461             14                  NaN  \n29       NaN           468             15                  NaN  \n35       NaN           474             16                  NaN  ",
      "text/html": "<div>\n<style scoped>\n    .dataframe tbody tr th:only-of-type {\n        vertical-align: middle;\n    }\n\n    .dataframe tbody tr th {\n        vertical-align: top;\n    }\n\n    .dataframe thead th {\n        text-align: right;\n    }\n</style>\n<table border=\"1\" class=\"dataframe\">\n  <thead>\n    <tr style=\"text-align: right;\">\n      <th></th>\n      <th>CODE</th>\n      <th>NCIT_CONCEPT_CODE</th>\n      <th>SHORT_NAME</th>\n      <th>LONG_NAME</th>\n      <th>DESCRIPTION</th>\n      <th>START_DATE</th>\n      <th>END_DATE</th>\n      <th>CODE_VALUE_ID</th>\n      <th>VOCABULARY_ID</th>\n      <th>PARENT_CODE_VALUE_ID</th>\n    </tr>\n  </thead>\n  <tbody>\n    <tr>\n      <th>1</th>\n      <td>1002-5</td>\n      <td>NaN</td>\n      <td>American Indian or Alaska Native</td>\n      <td>NaN</td>\n      <td>NaN</td>\n      <td>2000-01-01 00:00:00.0</td>\n      <td>NaN</td>\n      <td>414</td>\n      <td>10</td>\n      <td>NaN</td>\n    </tr>\n    <tr>\n      <th>10</th>\n      <td>8657</td>\n      <td>NaN</td>\n      <td>American Indian or Alaska Native</td>\n      <td>&lt;Race:Race:Race:CONCEPT_CODE&gt;1&lt;/&gt;</td>\n      <td>NaN</td>\n      <td>2000-01-01 00:00:00.0</td>\n      <td>NaN</td>\n      <td>424</td>\n      <td>11</td>\n      <td>NaN</td>\n    </tr>\n    <tr>\n      <th>22</th>\n      <td>NaN</td>\n      <td>NaN</td>\n      <td>American Indian or Alaska Native</td>\n      <td>NaN</td>\n      <td>NaN</td>\n      <td>2000-01-01 00:00:00.0</td>\n      <td>NaN</td>\n      <td>461</td>\n      <td>14</td>\n      <td>NaN</td>\n    </tr>\n    <tr>\n      <th>29</th>\n      <td>1</td>\n      <td>NaN</td>\n      <td>American Indian or Alaska Native</td>\n      <td>NaN</td>\n      <td>NaN</td>\n      <td>2000-01-01 00:00:00.0</td>\n      <td>NaN</td>\n      <td>468</td>\n      <td>15</td>\n      <td>NaN</td>\n    </tr>\n    <tr>\n      <th>35</th>\n      <td>01</td>\n      <td>NaN</td>\n      <td>American Indian or Alaska Native</td>\n      <td>NaN</td>\n      <td>NaN</td>\n      <td>2000-01-01 00:00:00.0</td>\n      <td>NaN</td>\n      <td>474</td>\n      <td>16</td>\n      <td>NaN</td>\n    </tr>\n  </tbody>\n</table>\n</div>"
     },
     "metadata": {},
     "output_type": "execute_result",
     "execution_count": 7
    }
   ],
   "source": [
    "code_values[code_values['SHORT_NAME'] == 'American Indian or Alaska Native']"
   ],
   "metadata": {
    "collapsed": false,
    "pycharm": {
     "name": "#%%\n",
     "is_executing": false
    }
   }
  },
  {
   "cell_type": "code",
   "execution_count": 8,
   "outputs": [
    {
     "data": {
      "text/plain": "          CODE NCIT_CONCEPT_CODE  \\\n2330    197698               NaN   \n2331    197699               NaN   \n2332    197700               NaN   \n2333    197701               NaN   \n2334    197702               NaN   \n...        ...               ...   \n20779  1791918               NaN   \n20780  1791919               NaN   \n20781  1791920               NaN   \n20782  1791925               NaN   \n20783  1792096               NaN   \n\n                                              SHORT_NAME  \\\n2330                      Fluconazole 100 MG Oral Tablet   \n2331                      Fluconazole 150 MG Oral Tablet   \n2332                      Fluconazole 200 MG Oral Tablet   \n2333                       Fluconazole 50 MG Oral Tablet   \n2334                     Flucytosine 250 MG Oral Capsule   \n...                                                  ...   \n20779  HOMATROPINE METHYLBROMIDE 99 g in 1 g NOT APPL...   \n20780  LEVETIRACETAM 495 g in 1 g NOT APPLICABLE POWD...   \n20781  Nitrofurantoin 9.9 g in 1 g NOT APPLICABLE POW...   \n20782  SECNIDAZOLE 495 g in 1 g NOT APPLICABLE POWDER...   \n20783  Amlodipine Besylate 495 g in 1 g NOT APPLICABL...   \n\n                                               LONG_NAME DESCRIPTION  \\\n2330                      Fluconazole 100 MG Oral Tablet         NaN   \n2331                      Fluconazole 150 MG Oral Tablet         NaN   \n2332                      Fluconazole 200 MG Oral Tablet         NaN   \n2333                       Fluconazole 50 MG Oral Tablet         NaN   \n2334                     Flucytosine 250 MG Oral Capsule         NaN   \n...                                                  ...         ...   \n20779  HOMATROPINE METHYLBROMIDE 99 g in 1 g NOT APPL...         NaN   \n20780  LEVETIRACETAM 495 g in 1 g NOT APPLICABLE POWD...         NaN   \n20781  Nitrofurantoin 9.9 g in 1 g NOT APPLICABLE POW...         NaN   \n20782  SECNIDAZOLE 495 g in 1 g NOT APPLICABLE POWDER...         NaN   \n20783  Amlodipine Besylate 495 g in 1 g NOT APPLICABL...         NaN   \n\n      START_DATE  END_DATE                            CODE_VALUE_ID  \\\n2330         NaN       NaN   85832350129635379621961152739294709770   \n2331         NaN       NaN  107648572568130652608135266619972162108   \n2332         NaN       NaN  301061690369072264569285502293174363448   \n2333         NaN       NaN   97539212138742495349368795745058533530   \n2334         NaN       NaN   59391222980346560871738409430096552052   \n...          ...       ...                                      ...   \n20779        NaN       NaN  235462061630728723796211920409705903907   \n20780        NaN       NaN  282166479567374688997769553125385674562   \n20781        NaN       NaN  239498109098149333377150471775016067973   \n20782        NaN       NaN  191559779870655224842387734648660817495   \n20783        NaN       NaN  189965320626818372413071395091457679841   \n\n       VOCABULARY_ID PARENT_CODE_VALUE_ID  \n2330             201                  NaN  \n2331             201                  NaN  \n2332             201                  NaN  \n2333             201                  NaN  \n2334             201                  NaN  \n...              ...                  ...  \n20779            201                  NaN  \n20780            201                  NaN  \n20781            201                  NaN  \n20782            201                  NaN  \n20783            201                  NaN  \n\n[14338 rows x 10 columns]",
      "text/html": "<div>\n<style scoped>\n    .dataframe tbody tr th:only-of-type {\n        vertical-align: middle;\n    }\n\n    .dataframe tbody tr th {\n        vertical-align: top;\n    }\n\n    .dataframe thead th {\n        text-align: right;\n    }\n</style>\n<table border=\"1\" class=\"dataframe\">\n  <thead>\n    <tr style=\"text-align: right;\">\n      <th></th>\n      <th>CODE</th>\n      <th>NCIT_CONCEPT_CODE</th>\n      <th>SHORT_NAME</th>\n      <th>LONG_NAME</th>\n      <th>DESCRIPTION</th>\n      <th>START_DATE</th>\n      <th>END_DATE</th>\n      <th>CODE_VALUE_ID</th>\n      <th>VOCABULARY_ID</th>\n      <th>PARENT_CODE_VALUE_ID</th>\n    </tr>\n  </thead>\n  <tbody>\n    <tr>\n      <th>2330</th>\n      <td>197698</td>\n      <td>NaN</td>\n      <td>Fluconazole 100 MG Oral Tablet</td>\n      <td>Fluconazole 100 MG Oral Tablet</td>\n      <td>NaN</td>\n      <td>NaN</td>\n      <td>NaN</td>\n      <td>85832350129635379621961152739294709770</td>\n      <td>201</td>\n      <td>NaN</td>\n    </tr>\n    <tr>\n      <th>2331</th>\n      <td>197699</td>\n      <td>NaN</td>\n      <td>Fluconazole 150 MG Oral Tablet</td>\n      <td>Fluconazole 150 MG Oral Tablet</td>\n      <td>NaN</td>\n      <td>NaN</td>\n      <td>NaN</td>\n      <td>107648572568130652608135266619972162108</td>\n      <td>201</td>\n      <td>NaN</td>\n    </tr>\n    <tr>\n      <th>2332</th>\n      <td>197700</td>\n      <td>NaN</td>\n      <td>Fluconazole 200 MG Oral Tablet</td>\n      <td>Fluconazole 200 MG Oral Tablet</td>\n      <td>NaN</td>\n      <td>NaN</td>\n      <td>NaN</td>\n      <td>301061690369072264569285502293174363448</td>\n      <td>201</td>\n      <td>NaN</td>\n    </tr>\n    <tr>\n      <th>2333</th>\n      <td>197701</td>\n      <td>NaN</td>\n      <td>Fluconazole 50 MG Oral Tablet</td>\n      <td>Fluconazole 50 MG Oral Tablet</td>\n      <td>NaN</td>\n      <td>NaN</td>\n      <td>NaN</td>\n      <td>97539212138742495349368795745058533530</td>\n      <td>201</td>\n      <td>NaN</td>\n    </tr>\n    <tr>\n      <th>2334</th>\n      <td>197702</td>\n      <td>NaN</td>\n      <td>Flucytosine 250 MG Oral Capsule</td>\n      <td>Flucytosine 250 MG Oral Capsule</td>\n      <td>NaN</td>\n      <td>NaN</td>\n      <td>NaN</td>\n      <td>59391222980346560871738409430096552052</td>\n      <td>201</td>\n      <td>NaN</td>\n    </tr>\n    <tr>\n      <th>...</th>\n      <td>...</td>\n      <td>...</td>\n      <td>...</td>\n      <td>...</td>\n      <td>...</td>\n      <td>...</td>\n      <td>...</td>\n      <td>...</td>\n      <td>...</td>\n      <td>...</td>\n    </tr>\n    <tr>\n      <th>20779</th>\n      <td>1791918</td>\n      <td>NaN</td>\n      <td>HOMATROPINE METHYLBROMIDE 99 g in 1 g NOT APPL...</td>\n      <td>HOMATROPINE METHYLBROMIDE 99 g in 1 g NOT APPL...</td>\n      <td>NaN</td>\n      <td>NaN</td>\n      <td>NaN</td>\n      <td>235462061630728723796211920409705903907</td>\n      <td>201</td>\n      <td>NaN</td>\n    </tr>\n    <tr>\n      <th>20780</th>\n      <td>1791919</td>\n      <td>NaN</td>\n      <td>LEVETIRACETAM 495 g in 1 g NOT APPLICABLE POWD...</td>\n      <td>LEVETIRACETAM 495 g in 1 g NOT APPLICABLE POWD...</td>\n      <td>NaN</td>\n      <td>NaN</td>\n      <td>NaN</td>\n      <td>282166479567374688997769553125385674562</td>\n      <td>201</td>\n      <td>NaN</td>\n    </tr>\n    <tr>\n      <th>20781</th>\n      <td>1791920</td>\n      <td>NaN</td>\n      <td>Nitrofurantoin 9.9 g in 1 g NOT APPLICABLE POW...</td>\n      <td>Nitrofurantoin 9.9 g in 1 g NOT APPLICABLE POW...</td>\n      <td>NaN</td>\n      <td>NaN</td>\n      <td>NaN</td>\n      <td>239498109098149333377150471775016067973</td>\n      <td>201</td>\n      <td>NaN</td>\n    </tr>\n    <tr>\n      <th>20782</th>\n      <td>1791925</td>\n      <td>NaN</td>\n      <td>SECNIDAZOLE 495 g in 1 g NOT APPLICABLE POWDER...</td>\n      <td>SECNIDAZOLE 495 g in 1 g NOT APPLICABLE POWDER...</td>\n      <td>NaN</td>\n      <td>NaN</td>\n      <td>NaN</td>\n      <td>191559779870655224842387734648660817495</td>\n      <td>201</td>\n      <td>NaN</td>\n    </tr>\n    <tr>\n      <th>20783</th>\n      <td>1792096</td>\n      <td>NaN</td>\n      <td>Amlodipine Besylate 495 g in 1 g NOT APPLICABL...</td>\n      <td>Amlodipine Besylate 495 g in 1 g NOT APPLICABL...</td>\n      <td>NaN</td>\n      <td>NaN</td>\n      <td>NaN</td>\n      <td>189965320626818372413071395091457679841</td>\n      <td>201</td>\n      <td>NaN</td>\n    </tr>\n  </tbody>\n</table>\n<p>14338 rows × 10 columns</p>\n</div>"
     },
     "metadata": {},
     "output_type": "execute_result",
     "execution_count": 8
    }
   ],
   "source": [
    "code_values[code_values['VOCABULARY_ID'] == 201]"
   ],
   "metadata": {
    "collapsed": false,
    "pycharm": {
     "name": "#%%\n",
     "is_executing": false
    }
   }
  },
  {
   "cell_type": "code",
   "execution_count": 9,
   "outputs": [
    {
     "data": {
      "text/plain": "(0, 10)"
     },
     "metadata": {},
     "output_type": "execute_result",
     "execution_count": 9
    }
   ],
   "source": [
    "code_values[code_values['VOCABULARY_ID'] == 3].shape  # NDC codes are not in the Code Values file. "
   ],
   "metadata": {
    "collapsed": false,
    "pycharm": {
     "name": "#%%\n",
     "is_executing": false
    }
   }
  },
  {
   "cell_type": "markdown",
   "source": [
    "### NDC Code Values"
   ],
   "metadata": {
    "collapsed": false
   }
  },
  {
   "cell_type": "code",
   "execution_count": 10,
   "outputs": [
    {
     "data": {
      "text/plain": "(120320, 10)"
     },
     "metadata": {},
     "output_type": "execute_result",
     "execution_count": 10
    }
   ],
   "source": [
    "ndc_codes = pandas.read_csv('data/Code_Value_NDC.csv')\n",
    "ndc_codes.shape"
   ],
   "metadata": {
    "collapsed": false,
    "pycharm": {
     "name": "#%%\n",
     "is_executing": false
    }
   }
  },
  {
   "cell_type": "code",
   "execution_count": 11,
   "outputs": [
    {
     "data": {
      "text/plain": "         CODE  NCIT_CONCEPT_CODE              SHORT_NAME  \\\n0  50481-3201                NaN  ALUMINUM CHLOROHYDRATE   \n1  50481-3300                NaN  ALUMINUM CHLOROHYDRATE   \n2   50484-010                NaN      COLLAGENASE SANTYL   \n3   50484-044                NaN             DIMETHICONE   \n4   50474-970                NaN            brivaracetam   \n\n                LONG_NAME  DESCRIPTION             START_DATE  END_DATE  \\\n0  ALUMINUM CHLOROHYDRATE          NaN  2010-01-27 00:00:00.0       NaN   \n1  ALUMINUM CHLOROHYDRATE          NaN  2010-01-27 00:00:00.0       NaN   \n2      COLLAGENASE SANTYL          NaN  2006-10-18 00:00:00.0       NaN   \n3             DIMETHICONE          NaN  1997-01-01 00:00:00.0       NaN   \n4            brivaracetam          NaN  2016-05-12 00:00:00.0       NaN   \n\n                             CODE_VALUE_ID  VOCABULARY_ID  \\\n0  305729844612722122309049253428563065302              3   \n1  268971868536841274691549533284593258679              3   \n2   86883256874617330759568260970066068929              3   \n3   12521337574333569306642311358711680755              3   \n4  238952408646098165910804777799158957766              3   \n\n   PARENT_CODE_VALUE_ID  \n0                   NaN  \n1                   NaN  \n2                   NaN  \n3                   NaN  \n4                   NaN  ",
      "text/html": "<div>\n<style scoped>\n    .dataframe tbody tr th:only-of-type {\n        vertical-align: middle;\n    }\n\n    .dataframe tbody tr th {\n        vertical-align: top;\n    }\n\n    .dataframe thead th {\n        text-align: right;\n    }\n</style>\n<table border=\"1\" class=\"dataframe\">\n  <thead>\n    <tr style=\"text-align: right;\">\n      <th></th>\n      <th>CODE</th>\n      <th>NCIT_CONCEPT_CODE</th>\n      <th>SHORT_NAME</th>\n      <th>LONG_NAME</th>\n      <th>DESCRIPTION</th>\n      <th>START_DATE</th>\n      <th>END_DATE</th>\n      <th>CODE_VALUE_ID</th>\n      <th>VOCABULARY_ID</th>\n      <th>PARENT_CODE_VALUE_ID</th>\n    </tr>\n  </thead>\n  <tbody>\n    <tr>\n      <th>0</th>\n      <td>50481-3201</td>\n      <td>NaN</td>\n      <td>ALUMINUM CHLOROHYDRATE</td>\n      <td>ALUMINUM CHLOROHYDRATE</td>\n      <td>NaN</td>\n      <td>2010-01-27 00:00:00.0</td>\n      <td>NaN</td>\n      <td>305729844612722122309049253428563065302</td>\n      <td>3</td>\n      <td>NaN</td>\n    </tr>\n    <tr>\n      <th>1</th>\n      <td>50481-3300</td>\n      <td>NaN</td>\n      <td>ALUMINUM CHLOROHYDRATE</td>\n      <td>ALUMINUM CHLOROHYDRATE</td>\n      <td>NaN</td>\n      <td>2010-01-27 00:00:00.0</td>\n      <td>NaN</td>\n      <td>268971868536841274691549533284593258679</td>\n      <td>3</td>\n      <td>NaN</td>\n    </tr>\n    <tr>\n      <th>2</th>\n      <td>50484-010</td>\n      <td>NaN</td>\n      <td>COLLAGENASE SANTYL</td>\n      <td>COLLAGENASE SANTYL</td>\n      <td>NaN</td>\n      <td>2006-10-18 00:00:00.0</td>\n      <td>NaN</td>\n      <td>86883256874617330759568260970066068929</td>\n      <td>3</td>\n      <td>NaN</td>\n    </tr>\n    <tr>\n      <th>3</th>\n      <td>50484-044</td>\n      <td>NaN</td>\n      <td>DIMETHICONE</td>\n      <td>DIMETHICONE</td>\n      <td>NaN</td>\n      <td>1997-01-01 00:00:00.0</td>\n      <td>NaN</td>\n      <td>12521337574333569306642311358711680755</td>\n      <td>3</td>\n      <td>NaN</td>\n    </tr>\n    <tr>\n      <th>4</th>\n      <td>50474-970</td>\n      <td>NaN</td>\n      <td>brivaracetam</td>\n      <td>brivaracetam</td>\n      <td>NaN</td>\n      <td>2016-05-12 00:00:00.0</td>\n      <td>NaN</td>\n      <td>238952408646098165910804777799158957766</td>\n      <td>3</td>\n      <td>NaN</td>\n    </tr>\n  </tbody>\n</table>\n</div>"
     },
     "metadata": {},
     "output_type": "execute_result",
     "execution_count": 11
    }
   ],
   "source": [
    "ndc_codes.head()"
   ],
   "metadata": {
    "collapsed": false,
    "pycharm": {
     "name": "#%%\n",
     "is_executing": false
    }
   }
  },
  {
   "cell_type": "markdown",
   "source": [
    "### OMOP NDC Code Values"
   ],
   "metadata": {
    "collapsed": false
   }
  },
  {
   "cell_type": "code",
   "execution_count": 12,
   "outputs": [
    {
     "data": {
      "text/plain": "(808013, 10)"
     },
     "metadata": {},
     "output_type": "execute_result",
     "execution_count": 12
    }
   ],
   "source": [
    "omop_ndc_codes = pandas.read_csv('data/Code_Value_OMOP_NDC.csv')\n",
    "omop_ndc_codes.shape"
   ],
   "metadata": {
    "collapsed": false,
    "pycharm": {
     "name": "#%%\n",
     "is_executing": false
    }
   }
  },
  {
   "cell_type": "code",
   "execution_count": 13,
   "outputs": [
    {
     "data": {
      "text/plain": "       CODE  NCIT_CONCEPT_CODE  \\\n0  35405336                NaN   \n1  35405337                NaN   \n2  35405338                NaN   \n3  35405339                NaN   \n4  35405340                NaN   \n\n                                          SHORT_NAME  \\\n0  BRONCHI HP - carbo vegetabilis, cuprum metalli...   \n1  ESIKA PRO HD COLOR HIGH DEFINITION COLOR SPF 2...   \n2  UNDA 43 - aluminium metallicum, asperula odora...   \n3                   LAC FELINUM - lac felinum pellet   \n4           PETROLEUM JELLY - white petrolatum cream   \n\n                                           LONG_NAME  DESCRIPTION  \\\n0  <Drug:NDC:11-digit NDC:CONCEPT_CODE>4491102730...          NaN   \n1  <Drug:NDC:11-digit NDC:CONCEPT_CODE>1353705811...          NaN   \n2  <Drug:NDC:11-digit NDC:CONCEPT_CODE>6210611460...          NaN   \n3  <Drug:NDC:11-digit NDC:CONCEPT_CODE>1563102590...          NaN   \n4  <Drug:NDC:11-digit NDC:CONCEPT_CODE>5733700770...          NaN   \n\n              START_DATE  END_DATE  CODE_VALUE_ID  VOCABULARY_ID  \\\n0  2000-01-01 00:00:00.0       NaN         133435            303   \n1  2000-01-01 00:00:00.0       NaN         133436            303   \n2  2000-01-01 00:00:00.0       NaN         133437            303   \n3  2000-01-01 00:00:00.0       NaN         133438            303   \n4  2000-01-01 00:00:00.0       NaN         133439            303   \n\n   PARENT_CODE_VALUE_ID  \n0                   NaN  \n1                   NaN  \n2                   NaN  \n3                   NaN  \n4                   NaN  ",
      "text/html": "<div>\n<style scoped>\n    .dataframe tbody tr th:only-of-type {\n        vertical-align: middle;\n    }\n\n    .dataframe tbody tr th {\n        vertical-align: top;\n    }\n\n    .dataframe thead th {\n        text-align: right;\n    }\n</style>\n<table border=\"1\" class=\"dataframe\">\n  <thead>\n    <tr style=\"text-align: right;\">\n      <th></th>\n      <th>CODE</th>\n      <th>NCIT_CONCEPT_CODE</th>\n      <th>SHORT_NAME</th>\n      <th>LONG_NAME</th>\n      <th>DESCRIPTION</th>\n      <th>START_DATE</th>\n      <th>END_DATE</th>\n      <th>CODE_VALUE_ID</th>\n      <th>VOCABULARY_ID</th>\n      <th>PARENT_CODE_VALUE_ID</th>\n    </tr>\n  </thead>\n  <tbody>\n    <tr>\n      <th>0</th>\n      <td>35405336</td>\n      <td>NaN</td>\n      <td>BRONCHI HP - carbo vegetabilis, cuprum metalli...</td>\n      <td>&lt;Drug:NDC:11-digit NDC:CONCEPT_CODE&gt;4491102730...</td>\n      <td>NaN</td>\n      <td>2000-01-01 00:00:00.0</td>\n      <td>NaN</td>\n      <td>133435</td>\n      <td>303</td>\n      <td>NaN</td>\n    </tr>\n    <tr>\n      <th>1</th>\n      <td>35405337</td>\n      <td>NaN</td>\n      <td>ESIKA PRO HD COLOR HIGH DEFINITION COLOR SPF 2...</td>\n      <td>&lt;Drug:NDC:11-digit NDC:CONCEPT_CODE&gt;1353705811...</td>\n      <td>NaN</td>\n      <td>2000-01-01 00:00:00.0</td>\n      <td>NaN</td>\n      <td>133436</td>\n      <td>303</td>\n      <td>NaN</td>\n    </tr>\n    <tr>\n      <th>2</th>\n      <td>35405338</td>\n      <td>NaN</td>\n      <td>UNDA 43 - aluminium metallicum, asperula odora...</td>\n      <td>&lt;Drug:NDC:11-digit NDC:CONCEPT_CODE&gt;6210611460...</td>\n      <td>NaN</td>\n      <td>2000-01-01 00:00:00.0</td>\n      <td>NaN</td>\n      <td>133437</td>\n      <td>303</td>\n      <td>NaN</td>\n    </tr>\n    <tr>\n      <th>3</th>\n      <td>35405339</td>\n      <td>NaN</td>\n      <td>LAC FELINUM - lac felinum pellet</td>\n      <td>&lt;Drug:NDC:11-digit NDC:CONCEPT_CODE&gt;1563102590...</td>\n      <td>NaN</td>\n      <td>2000-01-01 00:00:00.0</td>\n      <td>NaN</td>\n      <td>133438</td>\n      <td>303</td>\n      <td>NaN</td>\n    </tr>\n    <tr>\n      <th>4</th>\n      <td>35405340</td>\n      <td>NaN</td>\n      <td>PETROLEUM JELLY - white petrolatum cream</td>\n      <td>&lt;Drug:NDC:11-digit NDC:CONCEPT_CODE&gt;5733700770...</td>\n      <td>NaN</td>\n      <td>2000-01-01 00:00:00.0</td>\n      <td>NaN</td>\n      <td>133439</td>\n      <td>303</td>\n      <td>NaN</td>\n    </tr>\n  </tbody>\n</table>\n</div>"
     },
     "metadata": {},
     "output_type": "execute_result",
     "execution_count": 13
    }
   ],
   "source": [
    "omop_ndc_codes.head()"
   ],
   "metadata": {
    "collapsed": false,
    "pycharm": {
     "name": "#%%\n",
     "is_executing": false
    }
   }
  },
  {
   "cell_type": "markdown",
   "source": [
    "### OMOP-Condition-ICD10"
   ],
   "metadata": {
    "collapsed": false
   }
  },
  {
   "cell_type": "code",
   "execution_count": 14,
   "outputs": [
    {
     "data": {
      "text/plain": "(108311, 10)"
     },
     "metadata": {},
     "output_type": "execute_result",
     "execution_count": 14
    }
   ],
   "source": [
    "omop_icd10_codes = pandas.read_csv('data/Code_Value_OMOP-Condition-ICD10.csv')\n",
    "omop_icd10_codes.shape"
   ],
   "metadata": {
    "collapsed": false,
    "pycharm": {
     "name": "#%%\n",
     "is_executing": false
    }
   }
  },
  {
   "cell_type": "code",
   "execution_count": 15,
   "outputs": [
    {
     "data": {
      "text/plain": "    CODE  NCIT_CONCEPT_CODE  \\\n0   8708                NaN   \n1   8709                NaN   \n2   9861                NaN   \n3   9735                NaN   \n4  10199                NaN   \n\n                                          SHORT_NAME  \\\n0  Maternal care for disproportion due to unusual...   \n1  Maternal care for disproportion due to unusual...   \n2  Other osteoporosis with current pathological f...   \n3               Lead-induced chronic gout, left knee   \n4  External constriction of left eyelid and perio...   \n\n                                           LONG_NAME  DESCRIPTION  \\\n0  <Condition:ICD10CM:7-char billing code:CONCEPT...          NaN   \n1  <Condition:ICD10CM:7-char billing code:CONCEPT...          NaN   \n2  <Condition:ICD10CM:6-char nonbill code:CONCEPT...          NaN   \n3  <Condition:ICD10CM:6-char nonbill code:CONCEPT...          NaN   \n4  <Condition:ICD10CM:6-char nonbill code:CONCEPT...          NaN   \n\n              START_DATE  END_DATE  CODE_VALUE_ID  VOCABULARY_ID  \\\n0  2000-01-01 00:00:00.0       NaN         954263            305   \n1  2000-01-01 00:00:00.0       NaN         954264            305   \n2  2000-01-01 00:00:00.0       NaN         954434            305   \n3  2000-01-01 00:00:00.0       NaN         954308            305   \n4  2000-01-01 00:00:00.0       NaN         954770            305   \n\n   PARENT_CODE_VALUE_ID  \n0                   NaN  \n1                   NaN  \n2                   NaN  \n3                   NaN  \n4                   NaN  ",
      "text/html": "<div>\n<style scoped>\n    .dataframe tbody tr th:only-of-type {\n        vertical-align: middle;\n    }\n\n    .dataframe tbody tr th {\n        vertical-align: top;\n    }\n\n    .dataframe thead th {\n        text-align: right;\n    }\n</style>\n<table border=\"1\" class=\"dataframe\">\n  <thead>\n    <tr style=\"text-align: right;\">\n      <th></th>\n      <th>CODE</th>\n      <th>NCIT_CONCEPT_CODE</th>\n      <th>SHORT_NAME</th>\n      <th>LONG_NAME</th>\n      <th>DESCRIPTION</th>\n      <th>START_DATE</th>\n      <th>END_DATE</th>\n      <th>CODE_VALUE_ID</th>\n      <th>VOCABULARY_ID</th>\n      <th>PARENT_CODE_VALUE_ID</th>\n    </tr>\n  </thead>\n  <tbody>\n    <tr>\n      <th>0</th>\n      <td>8708</td>\n      <td>NaN</td>\n      <td>Maternal care for disproportion due to unusual...</td>\n      <td>&lt;Condition:ICD10CM:7-char billing code:CONCEPT...</td>\n      <td>NaN</td>\n      <td>2000-01-01 00:00:00.0</td>\n      <td>NaN</td>\n      <td>954263</td>\n      <td>305</td>\n      <td>NaN</td>\n    </tr>\n    <tr>\n      <th>1</th>\n      <td>8709</td>\n      <td>NaN</td>\n      <td>Maternal care for disproportion due to unusual...</td>\n      <td>&lt;Condition:ICD10CM:7-char billing code:CONCEPT...</td>\n      <td>NaN</td>\n      <td>2000-01-01 00:00:00.0</td>\n      <td>NaN</td>\n      <td>954264</td>\n      <td>305</td>\n      <td>NaN</td>\n    </tr>\n    <tr>\n      <th>2</th>\n      <td>9861</td>\n      <td>NaN</td>\n      <td>Other osteoporosis with current pathological f...</td>\n      <td>&lt;Condition:ICD10CM:6-char nonbill code:CONCEPT...</td>\n      <td>NaN</td>\n      <td>2000-01-01 00:00:00.0</td>\n      <td>NaN</td>\n      <td>954434</td>\n      <td>305</td>\n      <td>NaN</td>\n    </tr>\n    <tr>\n      <th>3</th>\n      <td>9735</td>\n      <td>NaN</td>\n      <td>Lead-induced chronic gout, left knee</td>\n      <td>&lt;Condition:ICD10CM:6-char nonbill code:CONCEPT...</td>\n      <td>NaN</td>\n      <td>2000-01-01 00:00:00.0</td>\n      <td>NaN</td>\n      <td>954308</td>\n      <td>305</td>\n      <td>NaN</td>\n    </tr>\n    <tr>\n      <th>4</th>\n      <td>10199</td>\n      <td>NaN</td>\n      <td>External constriction of left eyelid and perio...</td>\n      <td>&lt;Condition:ICD10CM:6-char nonbill code:CONCEPT...</td>\n      <td>NaN</td>\n      <td>2000-01-01 00:00:00.0</td>\n      <td>NaN</td>\n      <td>954770</td>\n      <td>305</td>\n      <td>NaN</td>\n    </tr>\n  </tbody>\n</table>\n</div>"
     },
     "metadata": {},
     "output_type": "execute_result",
     "execution_count": 15
    }
   ],
   "source": [
    "omop_icd10_codes.head()"
   ],
   "metadata": {
    "collapsed": false,
    "pycharm": {
     "name": "#%%\n",
     "is_executing": false
    }
   }
  },
  {
   "cell_type": "code",
   "execution_count": 16,
   "outputs": [],
   "source": [
    "### Combine all code values"
   ],
   "metadata": {
    "collapsed": false,
    "pycharm": {
     "name": "#%% md \n",
     "is_executing": false
    }
   }
  },
  {
   "cell_type": "code",
   "execution_count": 17,
   "outputs": [],
   "source": [
    "# code_values_all = pandas.concat([code_values, ndc_codes, omop_ndc_codes, omop_icd10_codes])\n",
    "# print(code_values_all.shape)\n",
    "# code_values_all.to_csv(index=False, quotechar='\"', quoting=csv.QUOTE_ALL)"
   ],
   "metadata": {
    "collapsed": false,
    "pycharm": {
     "name": "#%% \n",
     "is_executing": false
    }
   }
  },
  {
   "cell_type": "markdown",
   "source": [
    "## Vocabularies"
   ],
   "metadata": {
    "collapsed": false
   }
  },
  {
   "cell_type": "code",
   "execution_count": 18,
   "outputs": [],
   "source": [
    "vocabularies = pandas.read_csv('data/Vocabulary.csv')"
   ],
   "metadata": {
    "collapsed": false,
    "pycharm": {
     "name": "#%%\n",
     "is_executing": false
    }
   }
  },
  {
   "cell_type": "code",
   "execution_count": 19,
   "outputs": [
    {
     "data": {
      "text/plain": "                 NAME  VERSION  NCIT_CONCEPT_CODE  DESCRIPTION  SOURCE  \\\n0             ICD10CM      NaN                NaN          NaN     NaN   \n1                ICD9      NaN                NaN          NaN     NaN   \n2                 NDC      NaN                NaN          NaN     NaN   \n3       FHIR-BirthSex      NaN                NaN          NaN     NaN   \n4  OMOP-Person.gender      NaN                NaN          NaN     NaN   \n\n   VOCABULARY_ID  \n0              1  \n1              2  \n2              3  \n3              4  \n4              5  ",
      "text/html": "<div>\n<style scoped>\n    .dataframe tbody tr th:only-of-type {\n        vertical-align: middle;\n    }\n\n    .dataframe tbody tr th {\n        vertical-align: top;\n    }\n\n    .dataframe thead th {\n        text-align: right;\n    }\n</style>\n<table border=\"1\" class=\"dataframe\">\n  <thead>\n    <tr style=\"text-align: right;\">\n      <th></th>\n      <th>NAME</th>\n      <th>VERSION</th>\n      <th>NCIT_CONCEPT_CODE</th>\n      <th>DESCRIPTION</th>\n      <th>SOURCE</th>\n      <th>VOCABULARY_ID</th>\n    </tr>\n  </thead>\n  <tbody>\n    <tr>\n      <th>0</th>\n      <td>ICD10CM</td>\n      <td>NaN</td>\n      <td>NaN</td>\n      <td>NaN</td>\n      <td>NaN</td>\n      <td>1</td>\n    </tr>\n    <tr>\n      <th>1</th>\n      <td>ICD9</td>\n      <td>NaN</td>\n      <td>NaN</td>\n      <td>NaN</td>\n      <td>NaN</td>\n      <td>2</td>\n    </tr>\n    <tr>\n      <th>2</th>\n      <td>NDC</td>\n      <td>NaN</td>\n      <td>NaN</td>\n      <td>NaN</td>\n      <td>NaN</td>\n      <td>3</td>\n    </tr>\n    <tr>\n      <th>3</th>\n      <td>FHIR-BirthSex</td>\n      <td>NaN</td>\n      <td>NaN</td>\n      <td>NaN</td>\n      <td>NaN</td>\n      <td>4</td>\n    </tr>\n    <tr>\n      <th>4</th>\n      <td>OMOP-Person.gender</td>\n      <td>NaN</td>\n      <td>NaN</td>\n      <td>NaN</td>\n      <td>NaN</td>\n      <td>5</td>\n    </tr>\n  </tbody>\n</table>\n</div>"
     },
     "metadata": {},
     "output_type": "execute_result",
     "execution_count": 19
    }
   ],
   "source": [
    "vocabularies.head()"
   ],
   "metadata": {
    "collapsed": false,
    "pycharm": {
     "name": "#%%\n",
     "is_executing": false
    }
   }
  },
  {
   "cell_type": "code",
   "execution_count": 20,
   "outputs": [
    {
     "data": {
      "text/plain": "(139, 6)"
     },
     "metadata": {},
     "output_type": "execute_result",
     "execution_count": 20
    }
   ],
   "source": [
    "vocabularies.shape"
   ],
   "metadata": {
    "collapsed": false,
    "pycharm": {
     "name": "#%%\n",
     "is_executing": false
    }
   }
  },
  {
   "cell_type": "markdown",
   "source": [],
   "metadata": {
    "collapsed": false
   }
  },
  {
   "cell_type": "markdown",
   "source": [
    "## Code Mappings"
   ],
   "metadata": {
    "collapsed": false
   }
  },
  {
   "cell_type": "code",
   "execution_count": 21,
   "outputs": [
    {
     "data": {
      "text/plain": "Float64Index([3.0, 4.0, 2.0, 1.0], dtype='float64')"
     },
     "metadata": {},
     "output_type": "execute_result",
     "execution_count": 21
    }
   ],
   "source": [
    "import numpy as np \n",
    "index = pandas.Index([3, 1, 2, 3, 4, np.nan])\n",
    "index.value_counts().index"
   ],
   "metadata": {
    "collapsed": false,
    "pycharm": {
     "name": "#%%\n",
     "is_executing": false
    }
   }
  },
  {
   "cell_type": "code",
   "execution_count": 22,
   "outputs": [
    {
     "data": {
      "text/plain": "array([2, 1, 1, 1])"
     },
     "metadata": {},
     "output_type": "execute_result",
     "execution_count": 22
    }
   ],
   "source": [
    "index.value_counts().values"
   ],
   "metadata": {
    "collapsed": false,
    "pycharm": {
     "name": "#%%\n",
     "is_executing": false
    }
   }
  },
  {
   "cell_type": "code",
   "execution_count": 22,
   "outputs": [],
   "source": [],
   "metadata": {
    "collapsed": false,
    "pycharm": {
     "name": "#%%\n",
     "is_executing": false
    }
   }
  }
 ],
 "metadata": {
  "kernelspec": {
   "display_name": "Python 3",
   "language": "python",
   "name": "python3"
  },
  "language_info": {
   "codemirror_mode": {
    "name": "ipython",
    "version": 2
   },
   "file_extension": ".py",
   "mimetype": "text/x-python",
   "name": "python",
   "nbconvert_exporter": "python",
   "pygments_lexer": "ipython2",
   "version": "2.7.6"
  },
  "pycharm": {
   "stem_cell": {
    "cell_type": "raw",
    "source": [],
    "metadata": {
     "collapsed": false
    }
   }
  }
 },
 "nbformat": 4,
 "nbformat_minor": 0
}